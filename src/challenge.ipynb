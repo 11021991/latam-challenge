{
 "cells": [
  {
   "cell_type": "markdown",
   "metadata": {},
   "source": [
    "En este archivo puedes escribir lo que estimes conveniente. Te recomendamos detallar tu solución y todas las suposiciones que estás considerando. Aquí puedes ejecutar las funciones que definiste en los otros archivos de la carpeta src, medir el tiempo, memoria, etc."
   ]
  },
  {
   "cell_type": "code",
   "execution_count": 14,
   "metadata": {},
   "outputs": [],
   "source": [
    "file_path = r\"C:\\Users\\cifue\\OneDrive\\Documentos\\Option\\LATAM\\farmers-protest-tweets-2021-2-4.json\""
   ]
  },
  {
   "cell_type": "markdown",
   "metadata": {},
   "source": [
    "<p>En primera instancia resolví los problemas para entrar en la logica de cada.\n",
    "<p>Dentro de cada py está comentado el desarrollo. "
   ]
  },
  {
   "cell_type": "markdown",
   "metadata": {},
   "source": [
    "<h1>Q1 Solution"
   ]
  },
  {
   "cell_type": "code",
   "execution_count": 15,
   "metadata": {},
   "outputs": [
    {
     "data": {
      "text/plain": [
       "[(datetime.date(2021, 2, 12), 'SikhVibes'),\n",
       " (datetime.date(2021, 2, 12), 'ish_kayy'),\n",
       " (datetime.date(2021, 2, 12), 'PunjabTak'),\n",
       " (datetime.date(2021, 2, 12), 'rickyrickstir'),\n",
       " (datetime.date(2021, 2, 12), 'lovehazran1'),\n",
       " (datetime.date(2021, 2, 12), 'PushpSamra'),\n",
       " (datetime.date(2021, 2, 12), 'Satveer22950341'),\n",
       " (datetime.date(2021, 2, 12), 'bali_mandeep'),\n",
       " (datetime.date(2021, 2, 12), 'lovehazran1'),\n",
       " (datetime.date(2021, 2, 12), 'AntiITcellTask1')]"
      ]
     },
     "execution_count": 15,
     "metadata": {},
     "output_type": "execute_result"
    }
   ],
   "source": [
    "%run q1_memory.py\n",
    "q1_memory(file_path)"
   ]
  },
  {
   "cell_type": "markdown",
   "metadata": {},
   "source": [
    "<h1>Q2 Solution"
   ]
  },
  {
   "cell_type": "code",
   "execution_count": 16,
   "metadata": {},
   "outputs": [
    {
     "data": {
      "text/plain": [
       "[('🙏', 7286),\n",
       " ('😂', 3072),\n",
       " ('🚜', 2972),\n",
       " ('✊', 2411),\n",
       " ('🌾', 2363),\n",
       " ('🏻', 2080),\n",
       " ('❤', 1779),\n",
       " ('🤣', 1668),\n",
       " ('🏽', 1218),\n",
       " ('👇', 1108)]"
      ]
     },
     "execution_count": 16,
     "metadata": {},
     "output_type": "execute_result"
    }
   ],
   "source": [
    "%run q2_memory.py\n",
    "q2_memory(file_path)"
   ]
  },
  {
   "cell_type": "markdown",
   "metadata": {},
   "source": [
    "<h1>Q3 Solution"
   ]
  },
  {
   "cell_type": "code",
   "execution_count": 18,
   "metadata": {},
   "outputs": [
    {
     "data": {
      "text/plain": [
       "[('narendramodi', 2201),\n",
       " ('Kisanektamorcha', 1822),\n",
       " ('RakeshTikaitBKU', 1599),\n",
       " ('PMOIndia', 1387),\n",
       " ('RahulGandhi', 1093),\n",
       " ('RaviSinghKA', 1002),\n",
       " ('GretaThunberg', 999),\n",
       " ('UNHumanRights', 956),\n",
       " ('rihanna', 944),\n",
       " ('meenaharris', 911)]"
      ]
     },
     "execution_count": 18,
     "metadata": {},
     "output_type": "execute_result"
    }
   ],
   "source": [
    "%run q3_memory.py\n",
    "q3_memory(file_path)"
   ]
  }
 ],
 "metadata": {
  "kernelspec": {
   "display_name": "env",
   "language": "python",
   "name": "python3"
  },
  "language_info": {
   "codemirror_mode": {
    "name": "ipython",
    "version": 3
   },
   "file_extension": ".py",
   "mimetype": "text/x-python",
   "name": "python",
   "nbconvert_exporter": "python",
   "pygments_lexer": "ipython3",
   "version": "3.10.4"
  },
  "orig_nbformat": 4
 },
 "nbformat": 4,
 "nbformat_minor": 2
}
