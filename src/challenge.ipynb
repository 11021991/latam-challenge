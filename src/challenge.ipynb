{
 "cells": [
  {
   "cell_type": "markdown",
   "metadata": {},
   "source": [
    "En este archivo puedes escribir lo que estimes conveniente. Te recomendamos detallar tu solución y todas las suposiciones que estás considerando. Aquí puedes ejecutar las funciones que definiste en los otros archivos de la carpeta src, medir el tiempo, memoria, etc."
   ]
  },
  {
   "cell_type": "code",
   "execution_count": 1,
   "metadata": {},
   "outputs": [],
   "source": [
    "file_path = r\"C:\\Users\\cifue\\OneDrive\\Documentos\\Option\\LATAM\\farmers-protest-tweets-2021-2-4.json\""
   ]
  },
  {
   "cell_type": "markdown",
   "metadata": {},
   "source": [
    "<h1>Q1 Solution"
   ]
  },
  {
   "cell_type": "code",
   "execution_count": 2,
   "metadata": {},
   "outputs": [
    {
     "data": {
      "text/plain": [
       "[(datetime.date(2021, 2, 12), 'SikhVibes'),\n",
       " (datetime.date(2021, 2, 12), 'ish_kayy'),\n",
       " (datetime.date(2021, 2, 12), 'PunjabTak'),\n",
       " (datetime.date(2021, 2, 12), 'rickyrickstir'),\n",
       " (datetime.date(2021, 2, 12), 'lovehazran1'),\n",
       " (datetime.date(2021, 2, 12), 'PushpSamra'),\n",
       " (datetime.date(2021, 2, 12), 'Satveer22950341'),\n",
       " (datetime.date(2021, 2, 12), 'bali_mandeep'),\n",
       " (datetime.date(2021, 2, 12), 'lovehazran1'),\n",
       " (datetime.date(2021, 2, 12), 'AntiITcellTask1')]"
      ]
     },
     "execution_count": 2,
     "metadata": {},
     "output_type": "execute_result"
    }
   ],
   "source": [
    "%run q1_memory.py\n",
    "q1_memory(file_path)"
   ]
  }
 ],
 "metadata": {
  "kernelspec": {
   "display_name": "env",
   "language": "python",
   "name": "python3"
  },
  "language_info": {
   "codemirror_mode": {
    "name": "ipython",
    "version": 3
   },
   "file_extension": ".py",
   "mimetype": "text/x-python",
   "name": "python",
   "nbconvert_exporter": "python",
   "pygments_lexer": "ipython3",
   "version": "3.10.4"
  },
  "orig_nbformat": 4
 },
 "nbformat": 4,
 "nbformat_minor": 2
}
